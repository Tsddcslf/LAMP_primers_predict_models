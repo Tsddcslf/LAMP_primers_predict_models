{
 "cells": [
  {
   "cell_type": "code",
   "execution_count": 1,
   "id": "16fb21eb-52a6-419e-a63c-40f1d7f3ecb9",
   "metadata": {},
   "outputs": [],
   "source": [
    "import pandas as pd\n",
    "\n",
    "# 读取a.csv文件\n",
    "df = pd.read_csv('train_data_500.csv')\n",
    "\n",
    "# 提取enhanced_sequence和label_sequence两列\n",
    "new_df = df[['enhanced_sequence', 'label_sequence']]\n",
    "\n",
    "# 将新数据保存到b.csv文件\n",
    "new_df.to_csv('train_data.csv', index=False)\n"
   ]
  },
  {
   "cell_type": "code",
   "execution_count": 1,
   "id": "d89ea631-bfbd-4f85-be77-6548270df2d8",
   "metadata": {},
   "outputs": [],
   "source": [
    "import pandas as pd\n",
    "\n",
    "# 读取a.csv文件\n",
    "df = pd.read_csv('train_data.csv')\n",
    "\n",
    "# 定义一个函数对每个序列进行转换\n",
    "def transform_sequence(sequence):\n",
    "    return ''.join(['0' if char in '26' else '1' if char in '134578' else char for char in sequence])\n",
    "\n",
    "# 对label_sequence列进行转换，并存储在新的列label_sequence_2中\n",
    "df['label_sequence_2'] = df['label_sequence'].apply(transform_sequence)\n",
    "\n",
    "# 将修改后的数据保存到原文件中\n",
    "df.to_csv('train_data.csv', index=False)\n"
   ]
  },
  {
   "cell_type": "code",
   "execution_count": 1,
   "id": "2f7c99b5-a031-4920-b74b-19dbb1a52fc3",
   "metadata": {},
   "outputs": [],
   "source": [
    "import pandas as pd\n",
    "\n",
    "# 读取a.csv文件\n",
    "df = pd.read_csv('train_data.csv')\n",
    "\n",
    "# 定义一个函数对每个序列进行转换\n",
    "def transform_sequence_v2(sequence):\n",
    "    first_one = sequence.find('1')\n",
    "    last_one = sequence.rfind('1')\n",
    "    \n",
    "    if first_one != -1 and last_one != -1:\n",
    "        # 将第一个1和最后一个1之间的序列变成1\n",
    "        sequence = sequence[:first_one + 1] + '1' * (last_one - first_one - 1) + sequence[last_one:]\n",
    "    \n",
    "    return sequence\n",
    "\n",
    "# 对label_sequence_2列进行转换，并存储在新的列label_sequence_3中\n",
    "df['label_sequence_3'] = df['label_sequence_2'].apply(transform_sequence_v2)\n",
    "\n",
    "# 将修改后的数据保存到原文件中\n",
    "df.to_csv('train_data.csv', index=False)\n"
   ]
  },
  {
   "cell_type": "code",
   "execution_count": null,
   "id": "65db2ce0-f173-4c5a-ab5d-426cd743d596",
   "metadata": {},
   "outputs": [],
   "source": []
  }
 ],
 "metadata": {
  "kernelspec": {
   "display_name": "Python 3 (ipykernel)",
   "language": "python",
   "name": "python3"
  },
  "language_info": {
   "codemirror_mode": {
    "name": "ipython",
    "version": 3
   },
   "file_extension": ".py",
   "mimetype": "text/x-python",
   "name": "python",
   "nbconvert_exporter": "python",
   "pygments_lexer": "ipython3",
   "version": "3.12.7"
  }
 },
 "nbformat": 4,
 "nbformat_minor": 5
}
